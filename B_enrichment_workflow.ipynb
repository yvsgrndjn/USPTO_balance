{
 "cells": [
  {
   "cell_type": "markdown",
   "metadata": {},
   "source": [
    "# 0. Imports"
   ]
  },
  {
   "cell_type": "code",
   "execution_count": 1,
   "metadata": {},
   "outputs": [],
   "source": [
    "%load_ext autoreload\n",
    "%autoreload 2"
   ]
  },
  {
   "cell_type": "code",
   "execution_count": 272,
   "metadata": {},
   "outputs": [],
   "source": [
    "import pandas as pd\n",
    "from rdkit import Chem\n",
    "from rdkit.Chem import AllChem\n",
    "\n",
    "# for flattening tuples and lists\n",
    "from itertools import chain\n",
    "from itertools import islice\n",
    "\n",
    "from tqdm import tqdm\n",
    "import os\n",
    "import random\n",
    "import pickle\n",
    "import multiprocessing\n",
    "\n",
    "#import own modules\n",
    "import balancing_workflow as bw\n"
   ]
  },
  {
   "cell_type": "code",
   "execution_count": 163,
   "metadata": {},
   "outputs": [],
   "source": [
    "#(implement elsewhere, zenodo file maybe?) load GDB13S \n",
    "with open('/home/yves/Documents/GitHub/ReactionClasses/16_02_23/GDB/13S.smi', 'r') as f:\n",
    "    GDB13S = []\n",
    "    for line in f:\n",
    "        GDB13S.append(line.split('\\n')[0])\n",
    "\n",
    "#load formatted template dataframe\n",
    "#temp_r0 = pd.read_pickle('/home/yves/Documents/GitHub/USPTO_balance/data/amol_USPTO_templates_set_r0_v2_formatted.pkl')\n",
    "\n",
    "#load df_templates prepared in (*)\n",
    "df_templates = pd.read_pickle('/home/yves/Documents/GitHub/USPTO_balance/data/df_templates_to_enrich.pkl')\n",
    "\n",
    "#load GDB13S_mol (3%) prepared in (*)\n",
    "#with open('./data/GDB13S_003perc_mol.pkl', 'rb') as f:\n",
    "#    GDB13S_mol = pickle.load(f)"
   ]
  },
  {
   "cell_type": "markdown",
   "metadata": {},
   "source": [
    "# (*) 1. Data preparation"
   ]
  },
  {
   "cell_type": "markdown",
   "metadata": {},
   "source": [
    "df_template"
   ]
  },
  {
   "cell_type": "code",
   "execution_count": 6,
   "metadata": {},
   "outputs": [],
   "source": [
    "#(*)\n",
    "#retrieve list of templates to work on\n",
    "templates_to_enrich, templates_to_enrich_appearances = bw.select_templates_to_enrich(temp_r0['template_hash'])"
   ]
  },
  {
   "cell_type": "code",
   "execution_count": 5,
   "metadata": {},
   "outputs": [],
   "source": [
    "#(*)\n",
    "#create a dataframe to store the enrichment information\n",
    "\n",
    "df_templates = pd.DataFrame(columns=['template_hash', 'frequency'])\n",
    "df_templates['template_hash'] = templates_to_enrich\n",
    "df_templates['frequency'] = templates_to_enrich_appearances\n",
    "df_templates['retro_templates'] = [bw.find_reaction_template_of_hash(temp_r0, templates_to_enrich[i]) for i in range(len(templates_to_enrich))] #3 min\n",
    "df_templates['retro_reac'] = [Chem.MolToSmiles(bw.rxn_smarts_to_sanitized_reactant_smarts(df_templates.at[i, 'retro_templates'])) for i in range(len(df_templates))]\n"
   ]
  },
  {
   "cell_type": "code",
   "execution_count": 6,
   "metadata": {},
   "outputs": [],
   "source": [
    "#(*)\n",
    "#save df_templates to pickle \n",
    "df_templates.to_pickle('/home/yves/Documents/GitHub/USPTO_balance/data/df_templates_to_enrich.pkl')"
   ]
  },
  {
   "cell_type": "markdown",
   "metadata": {},
   "source": [
    "df_template_beckmann preparation"
   ]
  },
  {
   "cell_type": "code",
   "execution_count": 243,
   "metadata": {},
   "outputs": [],
   "source": [
    "Beckmanndf = pd.read_pickle('/home/yves/Documents/GitHub/CASP-and-dataset-performance/results/Beckmann_2rxns.pkl')\n"
   ]
  },
  {
   "cell_type": "code",
   "execution_count": 252,
   "metadata": {},
   "outputs": [],
   "source": [
    "templates_to_enrich, templates_to_enrich_appearances = bw.select_templates_to_enrich(Beckmanndf['template_hash'], min_number = 1, target_number = 10000)\n",
    "\n",
    "df_templates_Beckmann = pd.DataFrame(columns=['template_hash', 'frequency'])\n",
    "df_templates_Beckmann['template_hash'] = templates_to_enrich\n",
    "df_templates_Beckmann['frequency'] = templates_to_enrich_appearances\n",
    "df_templates_Beckmann['retro_templates'] = [bw.find_reaction_template_of_hash(Beckmanndf, templates_to_enrich[i]) for i in range(len(templates_to_enrich))] #3 min\n"
   ]
  },
  {
   "cell_type": "code",
   "execution_count": 262,
   "metadata": {},
   "outputs": [],
   "source": [
    "#save to reload later\n",
    "df_templates_Beckmann.to_pickle('/home/yves/Documents/GitHub/USPTO_balance/data/templates_split/df_templates_to_enrich_part_Beckmann.pkl')"
   ]
  },
  {
   "cell_type": "markdown",
   "metadata": {},
   "source": [
    "GDB13S_mol version"
   ]
  },
  {
   "cell_type": "code",
   "execution_count": null,
   "metadata": {},
   "outputs": [],
   "source": [
    "#choose a subset of GDB13S ~3M SMILES\n",
    "random.seed(42)\n",
    "GDB13S = random.sample(GDB13S,round(0.03*len(GDB13S)))\n",
    "\n",
    "#convert SMILES to RDKit mol format\n",
    "from multiprocessing import Pool\n",
    "\n",
    "dataset = GDB13S\n",
    "processes = os.cpu_count()-2\n",
    "\n",
    "def MolFromSmiles(smi):\n",
    "    return Chem.MolFromSmiles(smi)\n",
    "\n",
    "if __name__ == '__main__':\n",
    "   with Pool(processes) as p:\n",
    "      output = list(tqdm(p.imap(MolFromSmiles, dataset), total = len(dataset)))\n",
    "\n",
    "GDB13S_mol = output\n",
    "del output, dataset\n",
    "\n",
    "with open('./data/GDB13S_003perc_mol.pkl', 'wb') as f:\n",
    "    pickle.dump(GDB13S_mol, f)"
   ]
  },
  {
   "cell_type": "markdown",
   "metadata": {},
   "source": [
    "# 2. Framework dev"
   ]
  },
  {
   "cell_type": "markdown",
   "metadata": {},
   "source": [
    "## 2.1 Prepare data to run all templates on a single portion of GDB13S"
   ]
  },
  {
   "cell_type": "code",
   "execution_count": 300,
   "metadata": {},
   "outputs": [
    {
     "name": "stderr",
     "output_type": "stream",
     "text": [
      "100%|██████████| 993942/993942 [00:43<00:00, 22894.14it/s]\n"
     ]
    }
   ],
   "source": [
    "#after loading GDB13S (full) and df_templates (full)\n",
    "\n",
    "#1. select a short enough part of GDB13S and save both the SMILES and the mol format\n",
    "\n",
    "fraction = 0.01 #input if function\n",
    "GDB_version = 1 #input if function\n",
    "percentage = fraction*100 \n",
    "\n",
    "random.seed(42)\n",
    "GDB13S = random.sample(GDB13S,round(fraction*len(GDB13S)))\n",
    "\n",
    "with open(f'./data/GDB13S_{GDB_version}.txt', 'w') as f:\n",
    "    for item in GDB13S:\n",
    "        f.write(item + '\\n')"
   ]
  },
  {
   "cell_type": "code",
   "execution_count": null,
   "metadata": {},
   "outputs": [],
   "source": [
    "#2. split df_template"
   ]
  },
  {
   "cell_type": "code",
   "execution_count": 347,
   "metadata": {},
   "outputs": [],
   "source": [
    "#save 10 different df_templates with 10 percent of the retro_reac each\n",
    "frac_retro_reac_per_split = 0.01 #input if function\n",
    "\n",
    "n_parts = int(1/frac_retro_reac_per_split)\n",
    "datasplits = list(split(list(df_templates['retro_reac'].unique()), n_parts))\n",
    "\n",
    "for i in range(n_parts):\n",
    "    df_templates_split = df_templates[df_templates['retro_reac'].isin(datasplits[i])]\n",
    "    df_templates_split.to_pickle(f'/home/yves/Documents/GitHub/USPTO_balance/data/templates_split/df_templates_to_enrich_part_{i+1}.pkl')"
   ]
  },
  {
   "cell_type": "code",
   "execution_count": 349,
   "metadata": {},
   "outputs": [],
   "source": [
    "#create 100 config files for part 1 with same GDB version\n",
    "for i in range(n_parts):\n",
    "    with open(f'/home/yves/Documents/GitHub/USPTO_balance/config_files/config_part1_{i+1}.yaml', 'w') as f:\n",
    "        f.write(f'GDB13S_path: \"/home/yves/Documents/GitHub/USPTO_balance/data/GDB13S_{GDB_version}.txt\"\\n')\n",
    "        f.write(f'df_templates_path_to_pkl: \"/home/yves/Documents/GitHub/USPTO_balance/data/templates_split/df_templates_to_enrich_part_{i+1}.pkl\"\\n')\n",
    "        f.write(f'GDB_version: \"{GDB_version}\"\\n')\n",
    "        f.write(f'template_version: \"{i+1}\"\\n')"
   ]
  },
  {
   "cell_type": "markdown",
   "metadata": {},
   "source": [
    "RUN PART 1-------------------------------------------"
   ]
  },
  {
   "cell_type": "code",
   "execution_count": 350,
   "metadata": {},
   "outputs": [],
   "source": [
    "#create 100 config files for part 2 with same GDB version\n",
    "for i in range(n_parts):\n",
    "    with open(f'/home/yves/Documents/GitHub/USPTO_balance/config_files/config_part2_{i+1}.yaml', 'w') as f:\n",
    "        f.write(f'df_templates_path_to_pkl: \"/home/yves/Documents/GitHub/USPTO_balance/data/templates_split/df_templates_to_enrich_part_{i+1}.pkl\"\\n')\n",
    "        f.write(f'GDB_version: \"{GDB_version}\"\\n')\n",
    "        f.write(f'template_version: \"{i+1}\"\\n')"
   ]
  },
  {
   "cell_type": "markdown",
   "metadata": {},
   "source": [
    "RUN PART 2----------------------------------------"
   ]
  },
  {
   "cell_type": "code",
   "execution_count": 234,
   "metadata": {},
   "outputs": [],
   "source": [
    "#create 100 config files for part 3 with same GDB version\n",
    "for i in range(n_parts):\n",
    "    with open(f'/home/yves/Documents/GitHub/USPTO_balance/config_files/config_part3_{i+1}.yaml', 'w') as f:\n",
    "        f.write(f'df_templates_path_to_pkl: \"/home/yves/Documents/GitHub/USPTO_balance/data/templates_split/df_templates_to_enrich_part_{i+1}.pkl\"\\n')\n",
    "        f.write(f'GDB_version: \"{GDB_version}\"\\n')\n",
    "        f.write(f'template_version: \"{i+1}\"\\n')\n",
    "        f.write(f'Model_path_T2: \"/home/yves/Documents/GitHub/TTL_versions/1.4/models/USPTO_STEREO_separated_T2_Reagent_Pred_225000.pt\"\\n')\n",
    "        f.write(f'Model_path_T3: \"/home/yves/Documents/GitHub/TTL_versions/1.4/models/USPTO_STEREO_separated_T3_Forward_255000.pt\"')"
   ]
  },
  {
   "cell_type": "markdown",
   "metadata": {},
   "source": [
    "RUN PART 3----------------------------------------"
   ]
  },
  {
   "cell_type": "code",
   "execution_count": 238,
   "metadata": {},
   "outputs": [],
   "source": [
    "#try to see the percentage of reactions that are validated for a given retro_reac and retro_template\n",
    "#retro_reac and retro_template are taken from the saved_rxns_1_1 folder \n",
    "GDB_version = '1'\n",
    "template_version = '1'\n",
    "retro_reac = '[C:1]=[O:2]'\n",
    "retro_template = '([CH;D2;+0:1]=[O;H0;D1;+0:2])>>([CH2;D2;+0:1]-[OH;D1;+0:2])'\n",
    "with open(f'/home/yves/Documents/GitHub/USPTO_balance/created_rxns_{GDB_version}_{template_version}/rxns_{retro_reac}_{retro_template}.txt', 'r') as f:\n",
    "    created_rxns = []\n",
    "    for line in f:\n",
    "        created_rxns.append(line.split('\\n')[0])"
   ]
  },
  {
   "cell_type": "code",
   "execution_count": 240,
   "metadata": {},
   "outputs": [
    {
     "data": {
      "text/plain": [
       "22894"
      ]
     },
     "execution_count": 240,
     "metadata": {},
     "output_type": "execute_result"
    }
   ],
   "source": [
    "len(created_rxns)"
   ]
  },
  {
   "cell_type": "markdown",
   "metadata": {},
   "source": [
    "## 2.2 Development of reactions with confidence score > 0.9 validation"
   ]
  },
  {
   "cell_type": "markdown",
   "metadata": {},
   "source": [
    "# 3.Tests"
   ]
  },
  {
   "cell_type": "markdown",
   "metadata": {},
   "source": [
    "## 3.1 Add canonicalization in format_reaction function (both sides or only right side?)"
   ]
  },
  {
   "cell_type": "markdown",
   "metadata": {},
   "source": [
    "### 3.1.1 compare part 1 results with and after canonicalization of the subset"
   ]
  },
  {
   "cell_type": "markdown",
   "metadata": {},
   "source": [
    "### 3.1.2 Watch impact of canonicalization on part 2"
   ]
  },
  {
   "cell_type": "code",
   "execution_count": 116,
   "metadata": {},
   "outputs": [],
   "source": [
    "#config\n",
    "df_templates_path = \"/home/yves/Documents/GitHub/USPTO_balance/data/templates_split/df_templates_to_enrich_part_1.pkl\"\n",
    "GDB_version = \"1\"\n",
    "template_version = \"1\""
   ]
  },
  {
   "cell_type": "code",
   "execution_count": 119,
   "metadata": {},
   "outputs": [],
   "source": [
    "df_templates = pd.read_pickle(df_templates_path)\n",
    "\n",
    "#insert manually both retro_reac and retro_template as it is in a for loop usually\n",
    "retro_reac = '[C:1][C:2]'\n",
    "retro_template = '([CH2;D2;+0:1]-[CH2;D2;+0:2])>>([CH;D2;+0:1]=[CH;D2;+0:2])'"
   ]
  },
  {
   "cell_type": "code",
   "execution_count": 122,
   "metadata": {},
   "outputs": [],
   "source": [
    "GDB13S_sub, GDB13S_sub_mol = bw.load_subsets(retro_reac, GDB_version, template_version)"
   ]
  },
  {
   "cell_type": "code",
   "execution_count": 126,
   "metadata": {},
   "outputs": [],
   "source": [
    "#shorten a bit the datasets for testing\n",
    "GDB13S_sub = GDB13S_sub[:100]\n",
    "GDB13S_sub_mol = GDB13S_sub_mol[:100]"
   ]
  },
  {
   "cell_type": "code",
   "execution_count": 128,
   "metadata": {},
   "outputs": [],
   "source": [
    "GDB13S_sub_app_temp = bw.apply_rxn_template_on_mols_list(GDB13S_sub_mol, retro_template)"
   ]
  },
  {
   "cell_type": "code",
   "execution_count": 130,
   "metadata": {},
   "outputs": [],
   "source": [
    "ind_remove = [GDB13S_sub_app_temp[i] == () for i in range(len(GDB13S_sub_app_temp))]\n",
    "GDB13S_sub_app_temp_sort = [GDB13S_sub_app_temp[i] for i in range(len(GDB13S_sub_app_temp)) if not ind_remove[i]]\n",
    "GDB13S_sub_sort = [GDB13S_sub[i] for i in range(len(GDB13S_sub)) if not ind_remove[i]]"
   ]
  },
  {
   "cell_type": "code",
   "execution_count": 141,
   "metadata": {},
   "outputs": [],
   "source": [
    "fictive_rxns_list = [bw.format_reaction(GDB13S_sub_app_temp_sort[k], GDB13S_sub_sort[k]) for k in range(len(GDB13S_sub_sort))]\n",
    "fictive_rxns_list = list(chain.from_iterable(fictive_rxns_list))"
   ]
  },
  {
   "cell_type": "markdown",
   "metadata": {},
   "source": [
    "## 3.2 Tests for Beckmann rearrangement reaction on parts 1, 2, and 3"
   ]
  },
  {
   "cell_type": "code",
   "execution_count": 3,
   "metadata": {},
   "outputs": [],
   "source": [
    "df_templates_Beckmann = pd.read_pickle('/home/yves/Documents/GitHub/USPTO_balance/data/templates_split/df_templates_to_enrich_part_Beckmann.pkl')\n"
   ]
  },
  {
   "cell_type": "markdown",
   "metadata": {},
   "source": [
    "### 3.2.1 Prepare config file for Beckmann rearrangement "
   ]
  },
  {
   "cell_type": "code",
   "execution_count": 262,
   "metadata": {},
   "outputs": [],
   "source": [
    "#imports to generate the config files\n",
    "GDB_version = \"1\"\n",
    "template_version = \"Beckmann\"\n",
    "GDB13S_path = \"/home/yves/Documents/GitHub/USPTO_balance/data/GDB13S_1.txt\"\n",
    "df_templates_path_to_pkl = \"/home/yves/Documents/GitHub/USPTO_balance/data/templates_split/df_templates_to_enrich_part_Beckmann.pkl\"\n",
    "Model_path_T2 = \"/home/yves/Documents/GitHub/TTL_versions/1.4/models/USPTO_STEREO_separated_T2_Reagent_Pred_225000.pt\"\n",
    "Model_path_T3 = \"/home/yves/Documents/GitHub/TTL_versions/1.4/models/T3_Fwd_Tag_model_step_300000.pt\""
   ]
  },
  {
   "cell_type": "code",
   "execution_count": null,
   "metadata": {},
   "outputs": [],
   "source": [
    "#config file part 1 "
   ]
  },
  {
   "cell_type": "code",
   "execution_count": 263,
   "metadata": {},
   "outputs": [],
   "source": [
    "with open(f'/home/yves/Documents/GitHub/USPTO_balance/config_files/config_part1_{template_version}.yaml', 'w') as f:\n",
    "    f.write(f'GDB13S_path: \"/home/yves/Documents/GitHub/USPTO_balance/data/GDB13S_{GDB_version}.txt\"\\n')\n",
    "    f.write(f'df_templates_path_to_pkl: {df_templates_path_to_pkl}\\n')\n",
    "    f.write(f'GDB_version: \"{GDB_version}\"\\n')\n",
    "    f.write(f'template_version: \"{template_version}\"\\n')"
   ]
  },
  {
   "cell_type": "code",
   "execution_count": 258,
   "metadata": {},
   "outputs": [],
   "source": [
    "#config file part 2"
   ]
  },
  {
   "cell_type": "code",
   "execution_count": 264,
   "metadata": {},
   "outputs": [],
   "source": [
    "with open(f'/home/yves/Documents/GitHub/USPTO_balance/config_files/config_part2_{template_version}.yaml', 'w') as f:\n",
    "    f.write(f'df_templates_path_to_pkl: \"/home/yves/Documents/GitHub/USPTO_balance/data/templates_split//home/yves/Documents/GitHub/USPTO_balance/data/templates_split/df_templates_to_enrich_part_Beckmann.pkl\"\\n')\n",
    "    f.write(f'GDB_version: \"{GDB_version}\"\\n')\n",
    "    f.write(f'template_version: \"{template_version}\"\\n')"
   ]
  },
  {
   "cell_type": "code",
   "execution_count": 261,
   "metadata": {},
   "outputs": [],
   "source": [
    "#config file part 3 "
   ]
  },
  {
   "cell_type": "code",
   "execution_count": 265,
   "metadata": {},
   "outputs": [],
   "source": [
    "with open(f'/home/yves/Documents/GitHub/USPTO_balance/config_files/config_part3_{template_version}.yaml', 'w') as f:\n",
    "    f.write(f'df_templates_path_to_pkl: {df_templates_path_to_pkl}\\n')\n",
    "    f.write(f'GDB_version: \"{GDB_version}\"\\n')\n",
    "    f.write(f'template_version: \"{template_version}\"\\n')\n",
    "    f.write(f'Model_path_T2: {Model_path_T2}\\n')\n",
    "    f.write(f'Model_path_T3: {Model_path_T3}\\n')"
   ]
  },
  {
   "cell_type": "markdown",
   "metadata": {},
   "source": [
    "saved_rxns_1_Beckmann is empty again --> investigate"
   ]
  },
  {
   "cell_type": "markdown",
   "metadata": {},
   "source": [
    "### 3.2.2 Investigate if reaction verification process is accurate (part 3) (delete once method is running and progress report ready)"
   ]
  },
  {
   "cell_type": "code",
   "execution_count": 200,
   "metadata": {},
   "outputs": [],
   "source": [
    "df_templates_Beckmann = pd.read_pickle('/home/yves/Documents/GitHub/USPTO_balance/data/templates_split/df_templates_to_enrich_part_Beckmann.pkl')\n",
    "GDB_version = '1'\n",
    "template_version = 'Beckmann'\n",
    "Model_path_T2 = '/home/yves/Documents/GitHub/TTL_versions/1.4/models/USPTO_STEREO_separated_T2_Reagent_Pred_225000.pt'\n",
    "Model_path_T3 = '/home/yves/Documents/GitHub/TTL_versions/1.4/models/USPTO_STEREO_separated_T3_Forward_255000.pt'\n",
    "Model_path_T3_FT = '/home/yves/Documents/GitHub/TTL_versions/1.4/models/T3_Fwd_Tag_model_step_300000.pt'\n",
    "retro_reac = df_templates_Beckmann.at[0, 'retro_reac']\n",
    "retro_template = df_templates_Beckmann.at[0, 'retro_templates']"
   ]
  },
  {
   "cell_type": "code",
   "execution_count": 167,
   "metadata": {},
   "outputs": [
    {
     "name": "stderr",
     "output_type": "stream",
     "text": [
      "Some weights of the model checkpoint at /home/yves/anaconda3/envs/MultiStepRetro/lib/python3.8/site-packages/rxnmapper/models/transformers/albert_heads_8_uspto_all_1310k were not used when initializing AlbertModel: ['predictions.decoder.bias', 'predictions.dense.bias', 'predictions.decoder.weight', 'predictions.bias', 'predictions.LayerNorm.bias', 'predictions.dense.weight', 'predictions.LayerNorm.weight']\n",
      "- This IS expected if you are initializing AlbertModel from the checkpoint of a model trained on another task or with another architecture (e.g. initializing a BertForSequenceClassification model from a BertForPreTraining model).\n",
      "- This IS NOT expected if you are initializing AlbertModel from the checkpoint of a model that you expect to be exactly identical (initializing a BertForSequenceClassification model from a BertForSequenceClassification model).\n",
      "Some weights of the model checkpoint at /home/yves/anaconda3/envs/MultiStepRetro/lib/python3.8/site-packages/rxnmapper/models/transformers/albert_heads_8_uspto_all_1310k were not used when initializing AlbertModel: ['predictions.decoder.bias', 'predictions.dense.bias', 'predictions.decoder.weight', 'predictions.bias', 'predictions.LayerNorm.bias', 'predictions.dense.weight', 'predictions.LayerNorm.weight']\n",
      "- This IS expected if you are initializing AlbertModel from the checkpoint of a model trained on another task or with another architecture (e.g. initializing a BertForSequenceClassification model from a BertForPreTraining model).\n",
      "- This IS NOT expected if you are initializing AlbertModel from the checkpoint of a model that you expect to be exactly identical (initializing a BertForSequenceClassification model from a BertForSequenceClassification model).\n"
     ]
    }
   ],
   "source": [
    "rxns_list = bw.load_rxns(GDB_version, template_version, retro_reac, retro_template)"
   ]
  },
  {
   "cell_type": "code",
   "execution_count": 170,
   "metadata": {},
   "outputs": [
    {
     "name": "stderr",
     "output_type": "stream",
     "text": [
      "Some weights of the model checkpoint at /home/yves/anaconda3/envs/MultiStepRetro/lib/python3.8/site-packages/rxnmapper/models/transformers/albert_heads_8_uspto_all_1310k were not used when initializing AlbertModel: ['predictions.decoder.bias', 'predictions.dense.bias', 'predictions.decoder.weight', 'predictions.bias', 'predictions.LayerNorm.bias', 'predictions.dense.weight', 'predictions.LayerNorm.weight']\n",
      "- This IS expected if you are initializing AlbertModel from the checkpoint of a model trained on another task or with another architecture (e.g. initializing a BertForSequenceClassification model from a BertForPreTraining model).\n",
      "- This IS NOT expected if you are initializing AlbertModel from the checkpoint of a model that you expect to be exactly identical (initializing a BertForSequenceClassification model from a BertForSequenceClassification model).\n",
      "Some weights of the model checkpoint at /home/yves/anaconda3/envs/MultiStepRetro/lib/python3.8/site-packages/rxnmapper/models/transformers/albert_heads_8_uspto_all_1310k were not used when initializing AlbertModel: ['predictions.decoder.bias', 'predictions.dense.bias', 'predictions.decoder.weight', 'predictions.bias', 'predictions.LayerNorm.bias', 'predictions.dense.weight', 'predictions.LayerNorm.weight']\n",
      "- This IS expected if you are initializing AlbertModel from the checkpoint of a model trained on another task or with another architecture (e.g. initializing a BertForSequenceClassification model from a BertForPreTraining model).\n",
      "- This IS NOT expected if you are initializing AlbertModel from the checkpoint of a model that you expect to be exactly identical (initializing a BertForSequenceClassification model from a BertForSequenceClassification model).\n"
     ]
    }
   ],
   "source": [
    "tok_rxns_list = bw.tokenize_rxn_list(rxns_list)"
   ]
  },
  {
   "cell_type": "code",
   "execution_count": 177,
   "metadata": {},
   "outputs": [],
   "source": [
    "preds_T2 = bw.run_T2_predictions(tok_rxns_list, Model_path_T2, beam_size = 1, batch_size = 64, untokenize_output = True)"
   ]
  },
  {
   "cell_type": "code",
   "execution_count": 178,
   "metadata": {},
   "outputs": [
    {
     "name": "stderr",
     "output_type": "stream",
     "text": [
      "Some weights of the model checkpoint at /home/yves/anaconda3/envs/MultiStepRetro/lib/python3.8/site-packages/rxnmapper/models/transformers/albert_heads_8_uspto_all_1310k were not used when initializing AlbertModel: ['predictions.decoder.bias', 'predictions.dense.bias', 'predictions.decoder.weight', 'predictions.bias', 'predictions.LayerNorm.bias', 'predictions.dense.weight', 'predictions.LayerNorm.weight']\n",
      "- This IS expected if you are initializing AlbertModel from the checkpoint of a model trained on another task or with another architecture (e.g. initializing a BertForSequenceClassification model from a BertForPreTraining model).\n",
      "- This IS NOT expected if you are initializing AlbertModel from the checkpoint of a model that you expect to be exactly identical (initializing a BertForSequenceClassification model from a BertForSequenceClassification model).\n",
      "Some weights of the model checkpoint at /home/yves/anaconda3/envs/MultiStepRetro/lib/python3.8/site-packages/rxnmapper/models/transformers/albert_heads_8_uspto_all_1310k were not used when initializing AlbertModel: ['predictions.decoder.bias', 'predictions.dense.bias', 'predictions.decoder.weight', 'predictions.bias', 'predictions.LayerNorm.bias', 'predictions.dense.weight', 'predictions.LayerNorm.weight']\n",
      "- This IS expected if you are initializing AlbertModel from the checkpoint of a model trained on another task or with another architecture (e.g. initializing a BertForSequenceClassification model from a BertForPreTraining model).\n",
      "- This IS NOT expected if you are initializing AlbertModel from the checkpoint of a model that you expect to be exactly identical (initializing a BertForSequenceClassification model from a BertForSequenceClassification model).\n"
     ]
    }
   ],
   "source": [
    "rxns_T2_list, rxns_T2_to_T3, rxns_T2_to_T3_tok = bw.prepare_rxns_T2_for_T3(rxns_list, preds_T2)"
   ]
  },
  {
   "cell_type": "markdown",
   "metadata": {},
   "source": [
    "For normal forward validation T3"
   ]
  },
  {
   "cell_type": "code",
   "execution_count": 180,
   "metadata": {},
   "outputs": [
    {
     "name": "stderr",
     "output_type": "stream",
     "text": [
      "Some weights of the model checkpoint at /home/yves/anaconda3/envs/MultiStepRetro/lib/python3.8/site-packages/rxnmapper/models/transformers/albert_heads_8_uspto_all_1310k were not used when initializing AlbertModel: ['predictions.decoder.bias', 'predictions.dense.bias', 'predictions.decoder.weight', 'predictions.bias', 'predictions.LayerNorm.bias', 'predictions.dense.weight', 'predictions.LayerNorm.weight']\n",
      "- This IS expected if you are initializing AlbertModel from the checkpoint of a model trained on another task or with another architecture (e.g. initializing a BertForSequenceClassification model from a BertForPreTraining model).\n",
      "- This IS NOT expected if you are initializing AlbertModel from the checkpoint of a model that you expect to be exactly identical (initializing a BertForSequenceClassification model from a BertForSequenceClassification model).\n",
      "Some weights of the model checkpoint at /home/yves/anaconda3/envs/MultiStepRetro/lib/python3.8/site-packages/rxnmapper/models/transformers/albert_heads_8_uspto_all_1310k were not used when initializing AlbertModel: ['predictions.decoder.bias', 'predictions.dense.bias', 'predictions.decoder.weight', 'predictions.bias', 'predictions.LayerNorm.bias', 'predictions.dense.weight', 'predictions.LayerNorm.weight']\n",
      "- This IS expected if you are initializing AlbertModel from the checkpoint of a model trained on another task or with another architecture (e.g. initializing a BertForSequenceClassification model from a BertForPreTraining model).\n",
      "- This IS NOT expected if you are initializing AlbertModel from the checkpoint of a model that you expect to be exactly identical (initializing a BertForSequenceClassification model from a BertForSequenceClassification model).\n"
     ]
    }
   ],
   "source": [
    "preds_T3, probs_T3 = bw.run_T3_predictions(rxns_T2_to_T3_tok, Model_path_T3, beam_size = 3, batch_size = 64, untokenize_output = True)"
   ]
  },
  {
   "cell_type": "code",
   "execution_count": 185,
   "metadata": {},
   "outputs": [
    {
     "data": {
      "text/plain": [
       "['CCCC(=NO)OC1CC1NC=O>>CCCNC(=O)OC1CC1NC=O',\n",
       " 'CCC(C)C#CCC(=NO)NC=O>>CCC(C)C#CCNC(=O)NC=O',\n",
       " 'CCC(C)(C)C1(NC=O)CC1=NO>>CCC(C)(C)C1(NC=O)CNC1=O',\n",
       " 'CC(C)CC1(NC=O)CCC1=NO>>CC(C)CC1(NC=O)CCNC1=O',\n",
       " 'COC(CC(NC=O)C(C)C)=NO>>COC(=O)NCC(NC=O)C(C)C',\n",
       " 'CCC1(NC=O)CC(=NO)C(C)C1>>CCC1(NC=O)CNC(=O)C(C)C1',\n",
       " 'CC(C)N(C=O)C1CCC(=NO)C1>>CC(C)N(C=O)C1CCC(=O)NC1',\n",
       " 'CC1CCC1(C)CC(=NO)NC=O>>CC1CCC1(C)CNC(=O)NC=O',\n",
       " 'CC1C2CCC2CC(=NO)N1C=O>>CC1C2CCC2CNC(=O)N1C=O',\n",
       " 'C#CC(C)CC(=NO)N(C=O)CC>>C#CC(C)CNC(=O)N(C=O)CC',\n",
       " 'CC(CCCC(C)(C)NC=O)=NO>>CC(=O)NCCCC(C)(C)NC=O',\n",
       " 'CC1CC2(C)CC(=NO)N(C=O)C12>>CC1CC2(C)CNC(=O)N(C=O)C12',\n",
       " 'CN(C=O)C1(C)CCCC(=NO)C1>>CN(C=O)C1(C)CCCC(=O)NC1',\n",
       " 'CCC(CC(C)(CC)NC=O)=NO>>CCC(=O)NCC(C)(CC)NC=O',\n",
       " 'CC1(C)CCC(=NO)C1(C)NC=O>>CC1(C)CCNC(=O)C1(C)NC=O',\n",
       " 'CCCC1(CC(=NO)NC=O)CO1>>CCCC1(CNC(=O)NC=O)CO1',\n",
       " 'CCC(=NO)N(C=O)CCCC=O>>CCNC(=O)N(C=O)CCCC=O',\n",
       " 'CCC1(NC=O)C(=NO)CC1(C)C>>CCC1(NC=O)C(=O)NCC1(C)C',\n",
       " 'CC(CC1CCC(C)N1C=O)=NO>>CC(=O)NCC1CCC(C)N1C=O',\n",
       " 'CCCCC(CCNC=O)=NO>>CCCCNC(=O)CCNC=O',\n",
       " 'CC1(C)CC(=NO)CCC1NC=O>>CC1(C)CC(=O)NCCC1NC=O',\n",
       " 'CCCCC(CC(C)NC=O)=NO>>CCCCC(=O)NCC(C)NC=O']"
      ]
     },
     "execution_count": 185,
     "metadata": {},
     "output_type": "execute_result"
    }
   ],
   "source": [
    "rxns_list"
   ]
  },
  {
   "cell_type": "code",
   "execution_count": 196,
   "metadata": {},
   "outputs": [
    {
     "data": {
      "image/png": "[encoded data removed]",
      "text/plain": [
       "<rdkit.Chem.rdChemReactions.ChemicalReaction at 0x7f700975c400>"
      ]
     },
     "execution_count": 196,
     "metadata": {},
     "output_type": "execute_result"
    }
   ],
   "source": [
    "AllChem.ReactionFromSmarts(rxns_list[5], useSmiles = True)"
   ]
  },
  {
   "cell_type": "code",
   "execution_count": 181,
   "metadata": {},
   "outputs": [
    {
     "data": {
      "text/plain": [
       "['CCCc1nocn1C1CC1O',\n",
       " 'CCC(C)c1ccc(N)nc1',\n",
       " 'CCC(C)(C)C1(NC=O)CC1N',\n",
       " 'CC(C)CC1(NC=O)CCC1N',\n",
       " 'CC(C)[C@H](CC=O)NC=O',\n",
       " 'CCC1(NC=O)CC(N)C(C)C1',\n",
       " 'CC(C)N(C=O)C1CCC(N)C1',\n",
       " 'CNC(=N)CC1(C)CCC1C',\n",
       " 'CC1C2CCC3CC(N)N1C=O',\n",
       " 'C#CC(C)Cc1ncon1',\n",
       " 'CC(N)CCCC(C)(C)NC=O',\n",
       " 'CC1CC2(C)CC(N)N(C=O)C12',\n",
       " 'CN(C=O)C1(C)CCCC(N)C1',\n",
       " 'CCC(N)(CC)CC(C)(CC)N',\n",
       " 'CC1(C)CCC(N)C1(C)NC=O',\n",
       " 'CCCC1(CC(N)C=O)CO1',\n",
       " 'CCc1ncc(CCC=O)n1O',\n",
       " 'CCC1(NC=O)C(N)CC1(C)C',\n",
       " 'CC(N)CC1CCC(C)N1C=O',\n",
       " 'CCCCC(=NO)CCNC=O',\n",
       " 'CC1(C)CC(N)CCC1NC=O',\n",
       " 'CCCCc1cc(C)ncn1']"
      ]
     },
     "execution_count": 181,
     "metadata": {},
     "output_type": "execute_result"
    }
   ],
   "source": [
    "preds_T3"
   ]
  },
  {
   "cell_type": "code",
   "execution_count": 197,
   "metadata": {},
   "outputs": [
    {
     "data": {
      "image/png": "[encoded data removed]",
      "text/plain": [
       "<rdkit.Chem.rdchem.Mol at 0x7f70d7822160>"
      ]
     },
     "execution_count": 197,
     "metadata": {},
     "output_type": "execute_result"
    }
   ],
   "source": [
    "Chem.MolFromSmiles(preds_T3[5])"
   ]
  },
  {
   "cell_type": "markdown",
   "metadata": {},
   "source": [
    "For forward tag forward validation"
   ]
  },
  {
   "cell_type": "code",
   "execution_count": 201,
   "metadata": {},
   "outputs": [],
   "source": [
    "preds_T3_FT, probs_T3_FT = bw.run_T3_predictions(rxns_T2_to_T3_tok, Model_path_T3_FT, beam_size = 3, batch_size = 64, untokenize_output = True)"
   ]
  },
  {
   "cell_type": "code",
   "execution_count": 204,
   "metadata": {},
   "outputs": [
    {
     "data": {
      "image/png": "[encoded data removed]",
      "text/plain": [
       "<rdkit.Chem.rdChemReactions.ChemicalReaction at 0x7f6f2f7598e0>"
      ]
     },
     "execution_count": 204,
     "metadata": {},
     "output_type": "execute_result"
    }
   ],
   "source": [
    "AllChem.ReactionFromSmarts(rxns_list[6], useSmiles = True)"
   ]
  },
  {
   "cell_type": "code",
   "execution_count": 205,
   "metadata": {},
   "outputs": [
    {
     "data": {
      "image/png": "[encoded data removed]",
      "text/plain": [
       "<rdkit.Chem.rdchem.Mol at 0x7f6f2f759ac0>"
      ]
     },
     "execution_count": 205,
     "metadata": {},
     "output_type": "execute_result"
    }
   ],
   "source": [
    "Chem.MolFromSmiles(preds_T3_FT[6])"
   ]
  },
  {
   "cell_type": "markdown",
   "metadata": {},
   "source": [
    "input data for the forward tag T3 is: tagged ! + tokenized reactants > tagged ! + tokenized product"
   ]
  },
  {
   "cell_type": "code",
   "execution_count": 212,
   "metadata": {},
   "outputs": [
    {
     "name": "stderr",
     "output_type": "stream",
     "text": [
      "Some weights of the model checkpoint at /home/yves/anaconda3/envs/MultiStepRetro/lib/python3.8/site-packages/rxnmapper/models/transformers/albert_heads_8_uspto_all_1310k were not used when initializing AlbertModel: ['predictions.decoder.bias', 'predictions.dense.bias', 'predictions.decoder.weight', 'predictions.bias', 'predictions.LayerNorm.bias', 'predictions.dense.weight', 'predictions.LayerNorm.weight']\n",
      "- This IS expected if you are initializing AlbertModel from the checkpoint of a model trained on another task or with another architecture (e.g. initializing a BertForSequenceClassification model from a BertForPreTraining model).\n",
      "- This IS NOT expected if you are initializing AlbertModel from the checkpoint of a model that you expect to be exactly identical (initializing a BertForSequenceClassification model from a BertForSequenceClassification model).\n",
      "Some weights of the model checkpoint at /home/yves/anaconda3/envs/MultiStepRetro/lib/python3.8/site-packages/rxnmapper/models/transformers/albert_heads_8_uspto_all_1310k were not used when initializing AlbertModel: ['predictions.decoder.bias', 'predictions.dense.bias', 'predictions.decoder.weight', 'predictions.bias', 'predictions.LayerNorm.bias', 'predictions.dense.weight', 'predictions.LayerNorm.weight']\n",
      "- This IS expected if you are initializing AlbertModel from the checkpoint of a model trained on another task or with another architecture (e.g. initializing a BertForSequenceClassification model from a BertForPreTraining model).\n",
      "- This IS NOT expected if you are initializing AlbertModel from the checkpoint of a model that you expect to be exactly identical (initializing a BertForSequenceClassification model from a BertForSequenceClassification model).\n"
     ]
    }
   ],
   "source": [
    "#map reactants and products\n",
    "from ttlretro.single_step_retro import SingleStepRetrosynthesis\n",
    "singlestepretrosynthesis = SingleStepRetrosynthesis()\n",
    "MappedReactions = list(singlestepretrosynthesis.rxn_mapper_batch.map_reactions(rxns_list))"
   ]
  },
  {
   "cell_type": "code",
   "execution_count": 222,
   "metadata": {},
   "outputs": [],
   "source": [
    "#tag reactants and products\n",
    "#tag reactants\n",
    "taggedreactants = [singlestepretrosynthesis.rxn_mark_center.TagMappedReactionCenter(MappedReactions[i], alternative_marking = True, tag_reactants = True).split('>>')[0] for i in range(len(MappedReactions))]\n",
    "#tag products\n",
    "#taggedproducts = [singlestepretrosynthesis.rxn_mark_center.TagMappedReactionCenter(MappedReactions[i], alternative_marking = True, tag_reactants = False).split('>>')[1] for i in range(len(MappedReactions))]"
   ]
  },
  {
   "cell_type": "code",
   "execution_count": 233,
   "metadata": {},
   "outputs": [],
   "source": [
    "reconstructed_rxns = [taggedreactants[i] + '>' + preds_T2[i] for i in range(len(preds_T2))]"
   ]
  },
  {
   "cell_type": "code",
   "execution_count": 235,
   "metadata": {},
   "outputs": [],
   "source": [
    "reconstructed_rxns_tok = [singlestepretrosynthesis.smi_tokenizer(i) for i in reconstructed_rxns]"
   ]
  },
  {
   "cell_type": "code",
   "execution_count": 236,
   "metadata": {},
   "outputs": [
    {
     "data": {
      "text/plain": [
       "['C C C ! C ! ( = N ! O ! ) O C 1 C C 1 N C = O > C C ( = O ) O . C C ( = O ) [O-] . C C O C ( C ) = O . O . [Na+]',\n",
       " 'C C C ( C ) C # C C ! C ! ( = N ! O ! ) N C = O > C C O . Cl . O . O = C ( [O-] ) [O-] . [K+]',\n",
       " 'C C C ( C ) ( C ) C 1 ( N C = O ) C ! C ! 1 = N ! O ! > C C ( = O ) O . O . [Zn]',\n",
       " 'C C ( C ) C C 1 ( N C = O ) C C ! C ! 1 = N ! O ! > C C ( = O ) O . O . [Zn]',\n",
       " 'C ! O ! C ! ( C ! C ( N C = O ) C ( C ) C ) = N ! O ! > C C ( = O ) O . O . [Zn]',\n",
       " 'C C C 1 ( N C = O ) C ! C ! ( = N ! O ! ) C ( C ) C 1 > C C ( = O ) O . O = [Pt] = O',\n",
       " 'C C ( C ) N ( C = O ) C 1 C C C ! ( = N ! O ! ) C ! 1 > C C ( = O ) O . O . [Zn]',\n",
       " 'C C 1 C C C 1 ( C ) C ! C ! ( = N ! O ! ) N C ! = O ! > C C ( = O ) O . O . [Zn]',\n",
       " 'C C 1 C 2 C C C 2 C ! C ! ( = N ! O ! ) N 1 C = O > C C ( = O ) O . O . [Zn]',\n",
       " 'C # C C ( C ) C ! C ! ( = N ! O ! ) N ( C = O ) C C > C C O . O . [K+] . [OH-]',\n",
       " 'C C ! ( C ! C C C ( C ) ( C ) N C = O ) = N ! O ! > C C ( = O ) O . O . [Zn]',\n",
       " 'C C 1 C C 2 ( C ) C ! C ! ( = N ! O ! ) N ( C = O ) C 1 2 > C C ( = O ) O . O = [Pt] = O',\n",
       " 'C N ( C = O ) C 1 ( C ) C C C C ! ( = N ! O ! ) C ! 1 > C C ( = O ) O . O = [Pt] = O',\n",
       " 'C C C ! ( C ! C ( C ) ( C C ) N C = O ) = N ! O ! > C C ( = O ) O . O . [Zn]',\n",
       " 'C C 1 ( C ) C C ! C ! ( = N ! O ! ) C 1 ( C ) N C = O > C C ( = O ) O . O . [Zn]',\n",
       " 'C C C C 1 ( C ! C ! ( = N ! O ! ) N C = O ) C O 1 > C C O . [Pd]',\n",
       " 'C C ! C ! ( = N ! O ! ) N ( C = O ) C C C C = O > C C ( = O ) O . C C ( = O ) O C ( C ) = O . C C ( = O ) [O-] . [Na+]',\n",
       " 'C C C 1 ( N C = O ) C ! ( = N ! O ! ) C ! C 1 ( C ) C > C C ( = O ) O . O . [Zn]',\n",
       " 'C C ! ( C ! C 1 C C C ( C ) N 1 C = O ) = N ! O ! > C C ( = O ) O . O . [Zn]',\n",
       " 'C C C C ! C ! ( C C N C = O ) = N ! O ! > C C C C C C C C C C C C ( = O ) [O-] . C C C C [Sn+2] C C C C . C C O C ( C ) = O . [N-] = C = O',\n",
       " 'C C 1 ( C ) C C ! ( = N ! O ! ) C ! C C 1 N C = O > C C ( = O ) O . O . [Zn]',\n",
       " 'C C C C C ! ( C ! C ( C ) N C = O ) = N ! O ! > C C ( = O ) O . C C ( = O ) O C ( C ) = O . C C ( = O ) [O-] . C C C C C C C C C C C C C C C C ( = O ) [O-] . C C C C [Sn+2] C C C . O . [Cu+2]']"
      ]
     },
     "execution_count": 236,
     "metadata": {},
     "output_type": "execute_result"
    }
   ],
   "source": [
    "reconstructed_rxns_tok"
   ]
  },
  {
   "cell_type": "code",
   "execution_count": 253,
   "metadata": {},
   "outputs": [
    {
     "data": {
      "text/plain": [
       "['CC1C2CCC2CC(=NO)N1C=O>>CC1C2CCC2CNC(=O)N1C=O',\n",
       " 'CC1(C)CCC(=NO)C1(C)NC=O>>CC1(C)CCNC(=O)C1(C)NC=O']"
      ]
     },
     "execution_count": 253,
     "metadata": {},
     "output_type": "execute_result"
    }
   ],
   "source": [
    "preds_T3_FT, probs_T3_FT = run_T3_predictions(rxns_T2_to_T3_tok, Model_path_T3_FT, beam_size = 3, batch_size = 64, untokenize_output = True)\n",
    "ind_match = find_ind_match_T3_preds_ref(preds_T3_FT, rxns_list)\n",
    "rxns_conf = keeps_match_confident_rxns(rxns_list, probs_T3_FT, ind_match, conf_score = 0.9)\n",
    "rxns_conf"
   ]
  },
  {
   "cell_type": "code",
   "execution_count": 255,
   "metadata": {},
   "outputs": [
    {
     "data": {
      "image/png": "[encoded data removed]",
      "text/plain": [
       "<rdkit.Chem.rdChemReactions.ChemicalReaction at 0x7f708a050a00>"
      ]
     },
     "execution_count": 255,
     "metadata": {},
     "output_type": "execute_result"
    }
   ],
   "source": [
    "AllChem.ReactionFromSmarts(rxns_conf[1], useSmiles = True)"
   ]
  },
  {
   "cell_type": "markdown",
   "metadata": {},
   "source": [
    "compare rxns_list expectations and forward tag "
   ]
  },
  {
   "cell_type": "code",
   "execution_count": 245,
   "metadata": {},
   "outputs": [
    {
     "data": {
      "image/png": "[encoded data removed]",
      "text/plain": [
       "<rdkit.Chem.rdChemReactions.ChemicalReaction at 0x7f708162abe0>"
      ]
     },
     "execution_count": 245,
     "metadata": {},
     "output_type": "execute_result"
    }
   ],
   "source": [
    "AllChem.ReactionFromSmarts(rxns_list[3], useSmiles = True)"
   ]
  },
  {
   "cell_type": "code",
   "execution_count": 246,
   "metadata": {},
   "outputs": [
    {
     "data": {
      "image/png": "[encoded data removed]",
      "text/plain": [
       "<rdkit.Chem.rdchem.Mol at 0x7f708162aca0>"
      ]
     },
     "execution_count": 246,
     "metadata": {},
     "output_type": "execute_result"
    }
   ],
   "source": [
    "Chem.MolFromSmiles(preds_T3_FT[3])"
   ]
  },
  {
   "cell_type": "code",
   "execution_count": null,
   "metadata": {},
   "outputs": [],
   "source": [
    "#rewrite new function to give the right inputs to T3\n",
    "def prepare_rxns_T2_for_T3(rxns_list, preds_T2):\n",
    "    \n",
    "    MappedReactions = list(singlestepretrosynthesis.rxn_mapper_batch.map_reactions(rxns_list))\n",
    "    taggedreactants = [singlestepretrosynthesis.rxn_mark_center.TagMappedReactionCenter(MappedReactions[i], alternative_marking = True, tag_reactants = True).split('>>')[0] for i in range(len(MappedReactions))]\n",
    "    reconstructed_rxns = [taggedreactants[i] + '>' + preds_T2[i] for i in range(len(preds_T2))]\n",
    "    reconstructed_rxns_tok = [singlestepretrosynthesis.smi_tokenizer(i) for i in reconstructed_rxns]\n",
    "    return reconstructed_rxns_tok"
   ]
  },
  {
   "cell_type": "code",
   "execution_count": null,
   "metadata": {},
   "outputs": [],
   "source": []
  },
  {
   "cell_type": "markdown",
   "metadata": {},
   "source": [
    "### 3.2.3 Investigation on throughput of reactions"
   ]
  },
  {
   "cell_type": "code",
   "execution_count": 118,
   "metadata": {},
   "outputs": [],
   "source": [
    "#GDB13S_1\n",
    "GDB13S_path = \"/home/yves/Documents/GitHub/USPTO_balance/data/GDB13S_1.txt\"\n",
    "with open(GDB13S_path, 'r') as f:\n",
    "    GDB13S = []\n",
    "    for line in f:\n",
    "        GDB13S.append(line.split('\\n')[0])"
   ]
  },
  {
   "cell_type": "code",
   "execution_count": 119,
   "metadata": {},
   "outputs": [
    {
     "data": {
      "text/plain": [
       "993942"
      ]
     },
     "execution_count": 119,
     "metadata": {},
     "output_type": "execute_result"
    }
   ],
   "source": [
    "len(GDB13S)"
   ]
  },
  {
   "cell_type": "code",
   "execution_count": 120,
   "metadata": {},
   "outputs": [],
   "source": [
    "#number of matches for lactame (not necessarily cyclic)\n",
    "GDB13S_sub_Beckmann_path = '/home/yves/Documents/GitHub/USPTO_balance/GDB_subsets_1_Beckmann/GDB13S_sub_[C:1][N:3][CH:2]=[O:4].txt'\n",
    "with open(GDB13S_sub_Beckmann_path, 'r') as f:\n",
    "    GDB13S_sub_Beckmann = []\n",
    "    for line in f:\n",
    "        GDB13S_sub_Beckmann.append(line.split('\\n')[0])"
   ]
  },
  {
   "cell_type": "code",
   "execution_count": 121,
   "metadata": {},
   "outputs": [
    {
     "data": {
      "text/plain": [
       "9773"
      ]
     },
     "execution_count": 121,
     "metadata": {},
     "output_type": "execute_result"
    }
   ],
   "source": [
    "len(GDB13S_sub_Beckmann)"
   ]
  },
  {
   "cell_type": "code",
   "execution_count": 162,
   "metadata": {},
   "outputs": [
    {
     "data": {
      "image/png": "[encoded data removed]",
      "text/plain": [
       "<rdkit.Chem.rdchem.Mol at 0x7f748b1eee00>"
      ]
     },
     "execution_count": 162,
     "metadata": {},
     "output_type": "execute_result"
    }
   ],
   "source": [
    "GDB13S_sub_mol[3003]"
   ]
  },
  {
   "cell_type": "code",
   "execution_count": 145,
   "metadata": {},
   "outputs": [],
   "source": [
    "#number of created reactions for Beckmann rearrangements\n",
    "created_Beckmann_reactions_path = '/home/yves/Documents/GitHub/USPTO_balance/created_rxns_1_Beckmann/rxns_[C:1][N:3][CH:2]=[O:4]_([CH2;D2;+0:1]-[NH;D2;+0:3]-[C;H0;D3;+0:2]=[O;H0;D1;+0:4])>>([CH2;D2;+0:1]-[C;H0;D3;+0:2]=[N;H0;D2;+0:3]-[OH;D1;+0:4]).txt'\n",
    "with open(created_Beckmann_reactions_path, 'r') as f:\n",
    "    created_Beckmann_reactions = []\n",
    "    for line in f:\n",
    "        created_Beckmann_reactions.append(line.split('\\n')[0])"
   ]
  },
  {
   "cell_type": "code",
   "execution_count": 158,
   "metadata": {},
   "outputs": [
    {
     "data": {
      "image/png": "[encoded data removed]",
      "text/plain": [
       "<rdkit.Chem.rdChemReactions.ChemicalReaction at 0x7f749e1a6dc0>"
      ]
     },
     "execution_count": 158,
     "metadata": {},
     "output_type": "execute_result"
    }
   ],
   "source": [
    "AllChem.ReactionFromSmarts(created_Beckmann_reactions[1], useSmiles = True)"
   ]
  },
  {
   "cell_type": "code",
   "execution_count": null,
   "metadata": {},
   "outputs": [],
   "source": []
  },
  {
   "cell_type": "code",
   "execution_count": 123,
   "metadata": {},
   "outputs": [
    {
     "data": {
      "text/plain": [
       "22"
      ]
     },
     "execution_count": 123,
     "metadata": {},
     "output_type": "execute_result"
    }
   ],
   "source": [
    "len(created_Beckmann_reactions)"
   ]
  },
  {
   "cell_type": "code",
   "execution_count": 277,
   "metadata": {},
   "outputs": [],
   "source": [
    "#number of validated Beckmann rearrangements\n",
    "validated_Beckmann_reactions_path = '/home/yves/Documents/GitHub/USPTO_balance/saved_rxns_1_Beckmann/rxns_[C:1][N:3][CH:2]=[O:4]_([CH2;D2;+0:1]-[NH;D2;+0:3]-[C;H0;D3;+0:2]=[O;H0;D1;+0:4])>>([CH2;D2;+0:1]-[C;H0;D3;+0:2]=[N;H0;D2;+0:3]-[OH;D1;+0:4]).txt'\n",
    "with open(validated_Beckmann_reactions_path, 'r') as f:\n",
    "    validated_Beckmann_reactions = []\n",
    "    for line in f:\n",
    "        validated_Beckmann_reactions.append(line.split('\\n')[0])"
   ]
  },
  {
   "cell_type": "code",
   "execution_count": 268,
   "metadata": {},
   "outputs": [
    {
     "data": {
      "text/plain": [
       "2"
      ]
     },
     "execution_count": 268,
     "metadata": {},
     "output_type": "execute_result"
    }
   ],
   "source": [
    "len(validated_Beckmann_reactions)"
   ]
  },
  {
   "cell_type": "code",
   "execution_count": 278,
   "metadata": {},
   "outputs": [
    {
     "data": {
      "text/plain": [
       "['CC1C2CCC2CC(=NO)N1C=O>>CC1C2CCC2CNC(=O)N1C=O',\n",
       " 'CC1(C)CCC(=NO)C1(C)NC=O>>CC1(C)CCNC(=O)C1(C)NC=O']"
      ]
     },
     "execution_count": 278,
     "metadata": {},
     "output_type": "execute_result"
    }
   ],
   "source": [
    "validated_Beckmann_reactions"
   ]
  },
  {
   "cell_type": "code",
   "execution_count": 283,
   "metadata": {},
   "outputs": [],
   "source": [
    "#number of validated Beckmann rearrangements limited to 10000 reactions\n",
    "lines_number = 10000\n",
    "validated_Beckmann_reactions_path = '/home/yves/Documents/GitHub/USPTO_balance/saved_rxns_1_Beckmann/rxns_[C:1][N:3][CH:2]=[O:4]_([CH2;D2;+0:1]-[NH;D2;+0:3]-[C;H0;D3;+0:2]=[O;H0;D1;+0:4])>>([CH2;D2;+0:1]-[C;H0;D3;+0:2]=[N;H0;D2;+0:3]-[OH;D1;+0:4]).txt'\n",
    "with open(validated_Beckmann_reactions_path, 'r') as f:\n",
    "    validated_Beckmann_reactions = []\n",
    "    validated_Beckmann_reactions = list(islice(f, lines_number))\n",
    "    validated_Beckmann_reactions = [validated_Beckmann_reactions[i].split('\\n')[0] for i in range(len(validated_Beckmann_reactions))]"
   ]
  },
  {
   "cell_type": "code",
   "execution_count": 284,
   "metadata": {},
   "outputs": [
    {
     "data": {
      "text/plain": [
       "['CC1C2CCC2CC(=NO)N1C=O>>CC1C2CCC2CNC(=O)N1C=O',\n",
       " 'CC1(C)CCC(=NO)C1(C)NC=O>>CC1(C)CCNC(=O)C1(C)NC=O']"
      ]
     },
     "execution_count": 284,
     "metadata": {},
     "output_type": "execute_result"
    }
   ],
   "source": [
    "validated_Beckmann_reactions"
   ]
  },
  {
   "cell_type": "markdown",
   "metadata": {},
   "source": [
    "## 3.3 Standardize the call of config files with template_version / GDB_version throughout all the parts "
   ]
  },
  {
   "cell_type": "markdown",
   "metadata": {},
   "source": [
    "### 3.3.1 How is it done in part 1"
   ]
  },
  {
   "cell_type": "code",
   "execution_count": null,
   "metadata": {},
   "outputs": [],
   "source": [
    "#config file part 1 looks like this\n",
    "GDB_version = \"1\"\n",
    "template_version = \"Beckmann\"\n",
    "GDB13S_path: \"/home/yves/Documents/GitHub/USPTO_balance/data/GDB13S_1.txt\"\n",
    "df_templates_path_to_pkl: \"/home/yves/Documents/GitHub/USPTO_balance/data/templates_split/df_templates_to_enrich_part_Beckmann.pkl\""
   ]
  },
  {
   "cell_type": "code",
   "execution_count": null,
   "metadata": {},
   "outputs": [],
   "source": [
    "#main part 1 looks like this\n",
    "def main(GDB13S_path, df_templates_path_to_pkl, GDB_version, template_version):\n",
    "\n",
    "    # Load GDB13S dataset\n",
    "    with open(GDB13S_path, 'r') as f:\n",
    "        GDB13S = [line.strip() for line in f]\n",
    "\n",
    "    # Convert SMILES to RDKit molecule objects in parallel\n",
    "    processes = os.cpu_count() - 2\n",
    "    with Pool(processes) as p:\n",
    "        output = list(tqdm(p.imap(smiles_to_mol, GDB13S), total=len(GDB13S)))\n",
    "    GDB13S_mol = output\n",
    "\n",
    "    #load df_templates prepared in (*)\n",
    "    df_templates = pd.read_pickle(df_templates_path_to_pkl)\n",
    "\n",
    "    # Extract subsets based on unique retro_reac values\n",
    "    unique_retro_reac_values = df_templates['retro_reac'].unique()\n",
    "    for retro_reac in unique_retro_reac_values:\n",
    "        GDB13S_sub, GDB13S_sub_mol = extract_match_smiles_from_dataset(GDB13S, GDB13S_mol, retro_reac)\n",
    "        convert_and_save_subset(GDB13S_sub, GDB13S_sub_mol, retro_reac, GDB_version, template_version)\n"
   ]
  },
  {
   "cell_type": "markdown",
   "metadata": {},
   "source": [
    "### 3.3.2 How it is done in part 2"
   ]
  },
  {
   "cell_type": "code",
   "execution_count": null,
   "metadata": {},
   "outputs": [],
   "source": [
    "#config file part 2 looks like this\n",
    "df_templates_path_to_pkl: \"/home/yves/Documents/GitHub/USPTO_balance/data/templates_split/df_templates_to_enrich_part_Beckmann.pkl\"\n",
    "GDB_version = \"1\"\n",
    "template_version = \"Beckmann\""
   ]
  },
  {
   "cell_type": "code",
   "execution_count": null,
   "metadata": {},
   "outputs": [],
   "source": [
    "def main(df_templates_path, GDB_version, template_version):\n",
    "    \n",
    "    #load df_templates prepared in (*)\n",
    "    df_templates = pd.read_pickle(df_templates_path)\n",
    "\n",
    "    for retro_reac, retro_template in tqdm(zip(df_templates['retro_reac'], df_templates['retro_templates'])):\n",
    "        process_retro_template(retro_reac, retro_template, GDB_version, template_version)\n"
   ]
  },
  {
   "cell_type": "markdown",
   "metadata": {},
   "source": [
    "### 3.3.3 How it is done in part 3"
   ]
  },
  {
   "cell_type": "code",
   "execution_count": null,
   "metadata": {},
   "outputs": [],
   "source": [
    "#config files part 3 look like this\n",
    "df_templates_path_to_pkl: \"/home/yves/Documents/GitHub/USPTO_balance/data/templates_split//home/yves/Documents/GitHub/USPTO_balance/data/templates_split/df_templates_to_enrich_part_Beckmann.pkl\"\n",
    "GDB_version: \"1\"\n",
    "template_version: \"Beckmann\"\n",
    "Model_path_T2: \"/home/yves/Documents/GitHub/TTL_versions/1.4/models/USPTO_STEREO_separated_T2_Reagent_Pred_225000.pt\"\n",
    "Model_path_T3: \"/home/yves/Documents/GitHub/TTL_versions/1.4/models/USPTO_STEREO_separated_T3_Forward_255000.pt\""
   ]
  },
  {
   "cell_type": "code",
   "execution_count": null,
   "metadata": {},
   "outputs": [],
   "source": [
    "def main(GDB_version, template_version, Model_path_T2, Model_path_T3):\n",
    "\n",
    "    df_templates_split = load_template_version(template_version)\n",
    "\n",
    "    for retro_reac, retro_template in tqdm(zip(df_templates_split['retro_reac'], df_templates_split['retro_templates'])):\n",
    "        reactions_conf_validation(GDB_version, template_version, retro_reac, retro_template, Model_path_T2, Model_path_T3)\n",
    "\n",
    "def load_template_version(template_version):\n",
    "    df_templates_split = pd.read_pickle(f'/home/yves/Documents/GitHub/USPTO_balance/data/templates_split/df_templates_to_enrich_part_{template_version}.pkl')\n",
    "    return df_templates_split\n"
   ]
  },
  {
   "cell_type": "code",
   "execution_count": null,
   "metadata": {},
   "outputs": [],
   "source": [
    "#modified part 3\n",
    "def main(GDB_version, df_templates_path_to_pkl, template_version, Model_path_T2, Model_path_T3):\n",
    "\n",
    "    df_templates_split = pd.read_pickle(df_templates_path_to_pkl)\n",
    "\n",
    "    for retro_reac, retro_template in tqdm(zip(df_templates_split['retro_reac'], df_templates_split['retro_templates'])):\n",
    "        reactions_conf_validation(GDB_version, template_version, retro_reac, retro_template, Model_path_T2, Model_path_T3)\n",
    "\n",
    "#with commented load_template_version function"
   ]
  },
  {
   "cell_type": "markdown",
   "metadata": {},
   "source": [
    "## 3.4 Check that the limit of 10000 reactions to evaluate works"
   ]
  },
  {
   "cell_type": "code",
   "execution_count": 285,
   "metadata": {},
   "outputs": [
    {
     "name": "stderr",
     "output_type": "stream",
     "text": [
      "Some weights of the model checkpoint at /home/yves/anaconda3/envs/MultiStepRetro/lib/python3.8/site-packages/rxnmapper/models/transformers/albert_heads_8_uspto_all_1310k were not used when initializing AlbertModel: ['predictions.decoder.bias', 'predictions.dense.bias', 'predictions.decoder.weight', 'predictions.bias', 'predictions.LayerNorm.bias', 'predictions.dense.weight', 'predictions.LayerNorm.weight']\n",
      "- This IS expected if you are initializing AlbertModel from the checkpoint of a model trained on another task or with another architecture (e.g. initializing a BertForSequenceClassification model from a BertForPreTraining model).\n",
      "- This IS NOT expected if you are initializing AlbertModel from the checkpoint of a model that you expect to be exactly identical (initializing a BertForSequenceClassification model from a BertForSequenceClassification model).\n",
      "Some weights of the model checkpoint at /home/yves/anaconda3/envs/MultiStepRetro/lib/python3.8/site-packages/rxnmapper/models/transformers/albert_heads_8_uspto_all_1310k were not used when initializing AlbertModel: ['predictions.decoder.bias', 'predictions.dense.bias', 'predictions.decoder.weight', 'predictions.bias', 'predictions.LayerNorm.bias', 'predictions.dense.weight', 'predictions.LayerNorm.weight']\n",
      "- This IS expected if you are initializing AlbertModel from the checkpoint of a model trained on another task or with another architecture (e.g. initializing a BertForSequenceClassification model from a BertForPreTraining model).\n",
      "- This IS NOT expected if you are initializing AlbertModel from the checkpoint of a model that you expect to be exactly identical (initializing a BertForSequenceClassification model from a BertForSequenceClassification model).\n"
     ]
    }
   ],
   "source": [
    "#delete\n",
    "temp1 = pd.read_pickle('/home/yves/Documents/GitHub/USPTO_balance/data/templates_split/df_templates_to_enrich_part_1.pkl')"
   ]
  },
  {
   "cell_type": "code",
   "execution_count": 288,
   "metadata": {},
   "outputs": [],
   "source": [
    "#save only the first line of temp1 to a pkl file to test the function\n",
    "temp1[1:2].to_pickle('/home/yves/Documents/GitHub/USPTO_balance/data/templates_split/df_templates_to_enrich_first_template.pkl')"
   ]
  },
  {
   "cell_type": "code",
   "execution_count": 294,
   "metadata": {},
   "outputs": [
    {
     "data": {
      "text/plain": [
       "'([O;H0;D2;+0:2]-[c;H0;D3;+0:1])>>(Cl-[c;H0;D3;+0:1]).([OH;D1;+0:2])'"
      ]
     },
     "execution_count": 294,
     "metadata": {},
     "output_type": "execute_result"
    }
   ],
   "source": [
    "temp1.at[0, 'retro_templates']"
   ]
  },
  {
   "cell_type": "markdown",
   "metadata": {},
   "source": [
    "### 3.4.1 Create config files for evaluating the first template"
   ]
  },
  {
   "cell_type": "code",
   "execution_count": 289,
   "metadata": {},
   "outputs": [],
   "source": [
    "#imports to generate the config files\n",
    "GDB_version = \"1\"\n",
    "template_version = \"first_template\"\n",
    "GDB13S_path = \"/home/yves/Documents/GitHub/USPTO_balance/data/GDB13S_1.txt\"\n",
    "df_templates_path_to_pkl = \"/home/yves/Documents/GitHub/USPTO_balance/data/templates_split/df_templates_to_enrich_first_template.pkl\"\n",
    "Model_path_T2 = \"/home/yves/Documents/GitHub/TTL_versions/1.4/models/USPTO_STEREO_separated_T2_Reagent_Pred_225000.pt\"\n",
    "Model_path_T3 = \"/home/yves/Documents/GitHub/TTL_versions/1.4/models/T3_Fwd_Tag_model_step_300000.pt\""
   ]
  },
  {
   "cell_type": "code",
   "execution_count": 290,
   "metadata": {},
   "outputs": [],
   "source": [
    "#config part 1\n",
    "with open(f'/home/yves/Documents/GitHub/USPTO_balance/config_files/config_part1_{template_version}.yaml', 'w') as f:\n",
    "    f.write(f'GDB13S_path: \"/home/yves/Documents/GitHub/USPTO_balance/data/GDB13S_{GDB_version}.txt\"\\n')\n",
    "    f.write(f'df_templates_path_to_pkl: {df_templates_path_to_pkl}\\n')\n",
    "    f.write(f'GDB_version: \"{GDB_version}\"\\n')\n",
    "    f.write(f'template_version: \"{template_version}\"\\n')"
   ]
  },
  {
   "cell_type": "code",
   "execution_count": 292,
   "metadata": {},
   "outputs": [],
   "source": [
    "#config file part 2\n",
    "with open(f'/home/yves/Documents/GitHub/USPTO_balance/config_files/config_part2_{template_version}.yaml', 'w') as f:\n",
    "    f.write(f'df_templates_path_to_pkl: {df_templates_path_to_pkl}\\n')\n",
    "    f.write(f'GDB_version: \"{GDB_version}\"\\n')\n",
    "    f.write(f'template_version: \"{template_version}\"\\n')"
   ]
  }
 ],
 "metadata": {
  "kernelspec": {
   "display_name": "Python 3",
   "language": "python",
   "name": "python3"
  },
  "language_info": {
   "codemirror_mode": {
    "name": "ipython",
    "version": 3
   },
   "file_extension": ".py",
   "mimetype": "text/x-python",
   "name": "python",
   "nbconvert_exporter": "python",
   "pygments_lexer": "ipython3",
   "version": "3.8.16"
  },
  "orig_nbformat": 4
 },
 "nbformat": 4,
 "nbformat_minor": 2
}
